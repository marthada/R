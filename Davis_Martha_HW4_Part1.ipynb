{
  "nbformat": 4,
  "nbformat_minor": 0,
  "metadata": {
    "colab": {
      "provenance": [],
      "include_colab_link": true
    },
    "kernelspec": {
      "name": "python3",
      "display_name": "Python 3"
    },
    "language_info": {
      "name": "python"
    }
  },
  "cells": [
    {
      "cell_type": "markdown",
      "metadata": {
        "id": "view-in-github",
        "colab_type": "text"
      },
      "source": [
        "<a href=\"https://colab.research.google.com/github/marthada/R/blob/main/Davis_Martha_HW4_Part1.ipynb\" target=\"_parent\"><img src=\"https://colab.research.google.com/assets/colab-badge.svg\" alt=\"Open In Colab\"/></a>"
      ]
    },
    {
      "cell_type": "code",
      "source": [
        "import pandas as pd\n",
        "import matplotlib.pyplot as plt\n",
        "import plotly.express as px"
      ],
      "metadata": {
        "id": "8yTvQ3uoVIyD"
      },
      "execution_count": null,
      "outputs": []
    },
    {
      "cell_type": "code",
      "source": [
        "from google.colab import drive\n",
        "drive.mount('/content/drive')"
      ],
      "metadata": {
        "colab": {
          "base_uri": "https://localhost:8080/"
        },
        "id": "d0fYRmn3Krqa",
        "outputId": "382e85c0-8760-47e1-b04c-9ce9ba987c12"
      },
      "execution_count": null,
      "outputs": [
        {
          "output_type": "stream",
          "name": "stdout",
          "text": [
            "Mounted at /content/drive\n"
          ]
        }
      ]
    },
    {
      "cell_type": "markdown",
      "source": [
        "**Q1** Please use Pandas to read olympic_medals.csv and use parallel_categories function from plotly.express to visualize proportions of medal type for each gender from since year 2000. Please see the example in the Python notebook we walked through in the class."
      ],
      "metadata": {
        "id": "Ahlyu2CmZ7qA"
      }
    },
    {
      "cell_type": "code",
      "source": [
        "import pandas as pd\n",
        "import matplotlib.pyplot as plt\n",
        "import plotly.express as px\n",
        "df = pd.read_csv('/content/drive/MyDrive/DATA/olympic_medals.csv')\n",
        "\n"
      ],
      "metadata": {
        "id": "9bQlTm4QVPdJ"
      },
      "execution_count": null,
      "outputs": []
    },
    {
      "cell_type": "code",
      "execution_count": null,
      "metadata": {
        "colab": {
          "base_uri": "https://localhost:8080/",
          "height": 542
        },
        "id": "IUJMNrQbVBre",
        "outputId": "600e9b3c-d446-4879-f535-122351f1bc0d"
      },
      "outputs": [
        {
          "output_type": "display_data",
          "data": {
            "text/html": [
              "<html>\n",
              "<head><meta charset=\"utf-8\" /></head>\n",
              "<body>\n",
              "    <div>            <script src=\"https://cdnjs.cloudflare.com/ajax/libs/mathjax/2.7.5/MathJax.js?config=TeX-AMS-MML_SVG\"></script><script type=\"text/javascript\">if (window.MathJax && window.MathJax.Hub && window.MathJax.Hub.Config) {window.MathJax.Hub.Config({SVG: {font: \"STIX-Web\"}});}</script>                <script type=\"text/javascript\">window.PlotlyConfig = {MathJaxConfig: 'local'};</script>\n",
              "        <script charset=\"utf-8\" src=\"https://cdn.plot.ly/plotly-2.24.1.min.js\"></script>                <div id=\"5a110241-95ea-4a13-9f57-25b71a5af258\" class=\"plotly-graph-div\" style=\"height:525px; width:100%;\"></div>            <script type=\"text/javascript\">                                    window.PLOTLYENV=window.PLOTLYENV || {};                                    if (document.getElementById(\"5a110241-95ea-4a13-9f57-25b71a5af258\")) {                    Plotly.newPlot(                        \"5a110241-95ea-4a13-9f57-25b71a5af258\",                        [{\"dimensions\":[{\"label\":\"Gender\",\"values\":[\"M\",\"M\",\"M\",\"M\",\"M\",\"M\",\"M\",\"M\",\"M\",\"M\",\"M\",\"M\",\"M\",\"M\",\"M\",\"M\",\"M\",\"M\",\"M\",\"M\",\"M\",\"M\",\"M\",\"M\",\"M\",\"M\",\"M\",\"M\",\"M\",\"M\",\"M\",\"M\",\"M\",\"M\",\"M\",\"M\",\"M\",\"M\",\"M\",\"M\",\"M\",\"M\",\"M\",\"M\",\"M\",\"M\",\"M\",\"M\",\"M\",\"M\",\"M\",\"M\",\"M\",\"M\",\"M\",\"M\",\"M\",\"M\",\"M\",\"M\",\"M\",\"M\",\"M\",\"M\",\"M\",\"M\",\"M\",\"M\",\"M\",\"M\",\"M\",\"M\",\"M\",\"M\",\"M\",\"M\",\"M\",\"M\",\"M\",\"M\",\"M\",\"M\",\"M\",\"M\",\"M\",\"M\",\"M\",\"M\",\"M\",\"M\",\"M\",\"M\",\"M\",\"M\",\"M\",\"M\",\"M\",\"M\",\"M\",\"M\",\"M\",\"M\",\"M\",\"M\",\"M\",\"M\",\"M\",\"M\",\"M\",\"M\",\"M\",\"M\",\"M\",\"M\",\"M\",\"M\",\"M\",\"M\",\"M\",\"M\",\"M\",\"M\",\"M\",\"M\",\"M\",\"M\",\"M\",\"M\",\"M\",\"M\",\"M\",\"M\",\"M\",\"M\",\"M\",\"M\",\"M\",\"M\",\"M\",\"M\",\"M\",\"M\",\"M\",\"M\",\"M\",\"M\",\"M\",\"M\",\"M\",\"M\",\"M\",\"M\",\"M\",\"M\",\"M\",\"M\",\"M\",\"M\",\"M\",\"M\",\"M\",\"M\",\"M\",\"M\",\"M\",\"M\",\"M\",\"M\",\"M\",\"M\",\"M\",\"M\",\"M\",\"M\",\"M\",\"M\",\"M\",\"M\",\"M\",\"M\",\"M\",\"M\",\"M\",\"M\",\"M\",\"M\",\"M\",\"M\",\"M\",\"M\",\"M\",\"M\",\"M\",\"M\",\"M\",\"M\",\"M\",\"M\",\"M\",\"M\",\"M\",\"M\",\"M\",\"M\",\"M\",\"M\",\"M\",\"M\",\"M\",\"M\",\"M\",\"M\",\"M\",\"M\",\"M\",\"M\",\"M\",\"M\",\"M\",\"M\",\"M\",\"M\",\"M\",\"M\",\"M\",\"M\",\"M\",\"M\",\"M\",\"M\",\"M\",\"M\",\"M\",\"M\",\"M\",\"M\",\"M\",\"M\",\"M\",\"M\",\"M\",\"M\",\"M\",\"M\",\"M\",\"M\",\"M\",\"M\",\"M\",\"M\",\"M\",\"M\",\"M\",\"M\",\"M\",\"M\",\"M\",\"M\",\"M\",\"M\",\"M\",\"M\",\"M\",\"M\",\"M\",\"M\",\"M\",\"M\",\"M\",\"M\",\"M\",\"M\",\"M\",\"M\",\"M\",\"M\",\"M\",\"M\",\"M\",\"M\",\"M\",\"M\",\"M\",\"M\",\"M\",\"M\",\"M\",\"M\",\"M\",\"M\",\"M\",\"M\",\"M\",\"M\",\"M\",\"M\",\"M\",\"M\",\"M\",\"M\",\"M\",\"M\",\"M\",\"M\",\"M\",\"M\",\"M\",\"M\",\"M\",\"M\",\"M\",\"M\",\"M\",\"M\",\"M\",\"M\",\"M\",\"M\",\"M\",\"M\",\"M\",\"M\",\"M\",\"M\",\"M\",\"M\",\"M\",\"M\",\"M\",\"M\",\"M\",\"M\",\"M\",\"M\",\"M\",\"M\",\"M\",\"M\",\"M\",\"M\",\"M\",\"M\",\"M\",\"M\",\"M\",\"M\",\"M\",\"M\",\"M\",\"M\",\"M\",\"M\",\"M\",\"M\",\"M\",\"M\",\"M\",\"W\",\"W\",\"W\",\"W\",\"W\",\"W\",\"W\",\"W\",\"W\",\"W\",\"W\",\"W\",\"W\",\"W\",\"W\",\"W\",\"W\",\"W\",\"W\",\"W\",\"W\",\"W\",\"W\",\"W\",\"W\",\"W\",\"W\",\"W\",\"W\",\"W\",\"W\",\"W\",\"W\",\"W\",\"W\",\"W\",\"W\",\"W\",\"W\",\"W\",\"W\",\"W\",\"W\",\"W\",\"W\",\"W\",\"W\",\"W\",\"W\",\"W\",\"W\",\"W\",\"W\",\"W\",\"W\",\"W\",\"W\",\"W\",\"W\",\"W\",\"W\",\"W\",\"W\",\"W\",\"W\",\"W\",\"W\",\"W\",\"W\",\"W\",\"W\",\"W\",\"W\",\"W\",\"W\",\"W\",\"W\",\"W\",\"W\",\"W\",\"W\",\"W\",\"W\",\"W\",\"W\",\"W\",\"W\",\"W\",\"W\",\"W\",\"W\",\"W\",\"W\",\"W\",\"W\",\"W\",\"W\",\"W\",\"W\",\"W\",\"W\",\"W\",\"W\",\"W\",\"W\",\"W\",\"W\",\"W\",\"W\",\"W\",\"W\",\"W\",\"W\",\"W\",\"W\",\"W\",\"W\",\"W\",\"W\",\"W\",\"W\",\"W\",\"W\",\"W\",\"W\",\"W\",\"W\",\"W\",\"W\",\"W\",\"W\",\"W\",\"W\",\"W\",\"W\",\"W\",\"W\",\"W\",\"W\",\"W\",\"W\",\"W\",\"W\",\"W\",\"W\",\"W\",\"W\",\"W\",\"W\",\"W\",\"W\",\"W\",\"W\",\"W\",\"W\",\"W\",\"W\",\"W\",\"W\",\"W\",\"W\",\"W\",\"W\",\"W\",\"W\",\"W\",\"W\",\"W\",\"W\",\"W\",\"W\",\"W\",\"W\",\"W\",\"W\",\"W\",\"W\",\"W\",\"W\",\"W\",\"W\",\"W\",\"W\",\"W\",\"W\",\"W\",\"W\",\"W\",\"W\",\"W\",\"W\",\"W\",\"W\",\"W\",\"W\",\"W\",\"W\",\"W\",\"W\",\"W\",\"W\",\"W\",\"W\",\"W\",\"W\",\"W\",\"W\",\"W\",\"W\",\"W\",\"W\",\"W\",\"W\",\"W\",\"W\",\"W\",\"W\",\"W\",\"W\",\"W\",\"W\",\"W\",\"W\",\"W\",\"W\",\"W\",\"W\",\"W\",\"W\",\"W\",\"W\",\"W\",\"W\",\"W\",\"W\",\"W\",\"W\",\"W\",\"W\",\"W\",\"W\",\"W\",\"W\",\"W\",\"W\",\"W\",\"W\",\"W\",\"W\",\"W\",\"W\",\"W\",\"W\",\"W\",\"W\",\"W\",\"W\",\"W\",\"W\",\"W\",\"W\",\"W\",\"W\",\"W\",\"W\",\"W\",\"W\",\"W\",\"W\",\"W\",\"W\",\"W\",\"W\",\"W\",\"W\",\"W\",\"W\",\"W\",\"W\",\"W\",\"W\",\"W\",\"W\",\"W\",\"W\",\"W\",\"W\",\"W\",\"W\",\"W\",\"W\",\"W\",\"W\",\"W\",\"W\",\"W\",\"W\",\"W\",\"W\",\"W\",\"W\",\"W\",\"W\",\"W\",\"W\",\"W\",\"W\",\"W\",\"W\",\"W\",\"W\",\"W\",\"W\",\"W\",\"W\",\"W\",\"W\",\"W\",\"W\",\"W\",\"W\",\"W\",\"W\",\"W\",\"W\",\"W\"]},{\"label\":\"Medal Type\",\"values\":[\"G\",\"S\",\"B\",\"G\",\"S\",\"B\",\"G\",\"S\",\"B\",\"G\",\"S\",\"B\",\"G\",\"S\",\"B\",\"G\",\"S\",\"B\",\"G\",\"S\",\"B\",\"G\",\"S\",\"B\",\"G\",\"S\",\"B\",\"G\",\"S\",\"B\",\"G\",\"S\",\"B\",\"G\",\"S\",\"B\",\"G\",\"S\",\"B\",\"G\",\"S\",\"B\",\"G\",\"S\",\"B\",\"G\",\"S\",\"B\",\"G\",\"S\",\"B\",\"G\",\"S\",\"B\",\"G\",\"S\",\"B\",\"G\",\"S\",\"B\",\"G\",\"S\",\"B\",\"G\",\"S\",\"B\",\"G\",\"S\",\"B\",\"G\",\"S\",\"B\",\"G\",\"S\",\"B\",\"G\",\"S\",\"B\",\"G\",\"S\",\"B\",\"G\",\"S\",\"B\",\"G\",\"S\",\"B\",\"G\",\"S\",\"B\",\"G\",\"S\",\"B\",\"G\",\"S\",\"B\",\"G\",\"S\",\"B\",\"G\",\"S\",\"B\",\"G\",\"S\",\"B\",\"G\",\"S\",\"B\",\"G\",\"S\",\"B\",\"G\",\"S\",\"B\",\"G\",\"S\",\"B\",\"G\",\"S\",\"B\",\"G\",\"S\",\"B\",\"G\",\"S\",\"B\",\"G\",\"S\",\"B\",\"G\",\"S\",\"B\",\"G\",\"S\",\"B\",\"G\",\"S\",\"B\",\"S\",\"B\",\"G\",\"S\",\"B\",\"G\",\"S\",\"B\",\"G\",\"S\",\"B\",\"G\",\"S\",\"B\",\"G\",\"S\",\"G\",\"S\",\"B\",\"G\",\"S\",\"B\",\"G\",\"S\",\"B\",\"G\",\"S\",\"B\",\"G\",\"S\",\"B\",\"G\",\"S\",\"B\",\"G\",\"S\",\"B\",\"G\",\"S\",\"B\",\"G\",\"S\",\"B\",\"G\",\"S\",\"B\",\"G\",\"S\",\"B\",\"G\",\"S\",\"B\",\"G\",\"S\",\"B\",\"G\",\"S\",\"B\",\"G\",\"S\",\"B\",\"G\",\"S\",\"B\",\"G\",\"S\",\"B\",\"G\",\"S\",\"B\",\"G\",\"S\",\"B\",\"G\",\"S\",\"B\",\"G\",\"S\",\"B\",\"G\",\"S\",\"B\",\"G\",\"S\",\"B\",\"G\",\"S\",\"B\",\"G\",\"S\",\"B\",\"G\",\"S\",\"B\",\"G\",\"S\",\"B\",\"G\",\"S\",\"B\",\"G\",\"S\",\"B\",\"G\",\"S\",\"B\",\"G\",\"S\",\"B\",\"G\",\"S\",\"B\",\"G\",\"B\",\"G\",\"S\",\"B\",\"G\",\"S\",\"B\",\"G\",\"S\",\"B\",\"G\",\"S\",\"B\",\"B\",\"B\",\"G\",\"S\",\"B\",\"G\",\"S\",\"B\",\"G\",\"S\",\"B\",\"G\",\"S\",\"B\",\"G\",\"B\",\"G\",\"S\",\"B\",\"G\",\"S\",\"B\",\"G\",\"S\",\"B\",\"G\",\"S\",\"B\",\"G\",\"S\",\"B\",\"G\",\"S\",\"B\",\"G\",\"S\",\"B\",\"G\",\"S\",\"B\",\"G\",\"S\",\"B\",\"G\",\"S\",\"B\",\"G\",\"S\",\"B\",\"G\",\"S\",\"B\",\"G\",\"S\",\"G\",\"S\",\"B\",\"G\",\"S\",\"B\",\"G\",\"S\",\"B\",\"G\",\"S\",\"B\",\"G\",\"S\",\"B\",\"G\",\"S\",\"B\",\"G\",\"S\",\"B\",\"G\",\"S\",\"B\",\"G\",\"S\",\"B\",\"G\",\"S\",\"B\",\"G\",\"S\",\"B\",\"G\",\"S\",\"B\",\"G\",\"S\",\"B\",\"G\",\"S\",\"B\",\"G\",\"S\",\"B\",\"G\",\"S\",\"B\",\"G\",\"S\",\"B\",\"G\",\"S\",\"B\",\"G\",\"S\",\"B\",\"G\",\"S\",\"B\",\"G\",\"S\",\"B\",\"G\",\"S\",\"B\",\"G\",\"S\",\"B\",\"G\",\"S\",\"B\",\"G\",\"S\",\"S\",\"S\",\"S\",\"B\",\"G\",\"S\",\"B\",\"G\",\"S\",\"B\",\"G\",\"S\",\"B\",\"G\",\"S\",\"B\",\"G\",\"S\",\"B\",\"S\",\"B\",\"G\",\"S\",\"B\",\"G\",\"S\",\"B\",\"G\",\"S\",\"B\",\"G\",\"S\",\"B\",\"G\",\"S\",\"B\",\"G\",\"S\",\"B\",\"G\",\"S\",\"B\",\"G\",\"S\",\"B\",\"G\",\"G\",\"S\",\"B\",\"G\",\"B\",\"G\",\"S\",\"B\",\"G\",\"S\",\"B\",\"G\",\"S\",\"G\",\"S\",\"B\",\"G\",\"S\",\"B\",\"G\",\"S\",\"B\",\"G\",\"S\",\"B\",\"G\",\"S\",\"B\",\"G\",\"S\",\"B\",\"G\",\"S\",\"B\",\"G\",\"S\",\"B\",\"G\",\"S\",\"B\",\"G\",\"S\",\"B\",\"G\",\"S\",\"B\",\"G\",\"S\",\"B\",\"G\",\"S\",\"B\",\"G\",\"S\",\"B\",\"G\",\"S\",\"B\",\"G\",\"S\",\"B\",\"G\",\"S\",\"B\",\"G\",\"B\",\"G\",\"S\",\"B\",\"G\",\"S\",\"B\",\"G\",\"S\",\"B\",\"G\",\"S\",\"B\",\"G\",\"S\",\"B\",\"G\",\"S\",\"B\",\"G\",\"S\",\"B\",\"G\",\"S\",\"B\",\"G\",\"S\",\"B\",\"G\",\"S\",\"B\",\"G\",\"S\",\"B\",\"G\",\"S\",\"B\",\"G\",\"S\",\"B\",\"G\",\"S\",\"B\",\"G\",\"B\",\"G\",\"S\",\"B\",\"G\",\"S\",\"B\",\"G\",\"S\",\"B\",\"G\",\"S\",\"B\",\"G\",\"S\",\"B\",\"G\",\"S\",\"B\",\"S\",\"B\",\"G\",\"S\",\"B\",\"G\",\"S\",\"B\",\"G\",\"S\",\"B\",\"G\",\"S\",\"B\",\"G\",\"S\",\"B\",\"G\",\"S\",\"B\",\"G\",\"S\",\"B\",\"G\",\"S\",\"G\",\"S\",\"B\",\"B\",\"G\",\"S\",\"B\",\"G\",\"S\",\"B\",\"G\",\"S\",\"B\",\"G\",\"B\",\"G\",\"S\",\"B\",\"G\",\"S\",\"B\",\"G\",\"S\",\"B\",\"G\",\"S\",\"B\",\"G\",\"B\",\"G\",\"S\",\"B\",\"G\",\"S\",\"B\",\"G\",\"S\",\"B\",\"G\",\"S\",\"B\",\"G\",\"S\",\"B\",\"G\",\"S\",\"B\",\"G\",\"S\",\"B\",\"G\",\"S\",\"B\",\"G\",\"S\",\"B\",\"G\",\"S\",\"B\",\"G\",\"S\",\"B\",\"G\",\"S\",\"B\",\"G\",\"S\",\"B\",\"G\",\"S\",\"B\",\"G\",\"G\",\"S\",\"B\",\"G\",\"B\",\"G\",\"S\",\"G\",\"S\",\"B\",\"G\",\"G\",\"S\",\"B\",\"G\",\"S\",\"B\",\"G\",\"S\",\"B\"]}],\"domain\":{\"x\":[0.0,1.0],\"y\":[0.0,1.0]},\"line\":{\"color\":[2016,2016,2016,2008,2008,2008,2000,2000,2000,2012,2012,2012,2004,2004,2004,2016,2016,2016,2008,2008,2008,2000,2000,2000,2012,2012,2012,2004,2004,2004,2016,2016,2016,2008,2008,2008,2000,2000,2000,2012,2012,2012,2004,2004,2004,2016,2016,2016,2008,2008,2008,2000,2000,2000,2012,2012,2012,2004,2004,2004,2016,2016,2016,2008,2008,2008,2000,2000,2000,2012,2012,2012,2004,2004,2004,2016,2016,2016,2008,2008,2008,2000,2000,2000,2012,2012,2012,2004,2004,2004,2016,2016,2016,2008,2008,2008,2000,2000,2000,2012,2012,2012,2004,2004,2004,2016,2016,2016,2008,2008,2008,2000,2000,2000,2012,2012,2012,2004,2004,2004,2016,2016,2016,2008,2008,2008,2000,2000,2000,2012,2012,2012,2004,2004,2004,2016,2016,2016,2008,2008,2000,2000,2000,2012,2012,2012,2004,2004,2004,2016,2016,2016,2008,2008,2000,2000,2000,2012,2012,2012,2004,2004,2004,2016,2016,2016,2008,2008,2008,2000,2000,2000,2012,2012,2012,2004,2004,2004,2016,2016,2016,2008,2008,2008,2000,2000,2000,2012,2012,2012,2004,2004,2004,2016,2016,2016,2008,2008,2008,2000,2000,2000,2012,2012,2012,2004,2004,2004,2016,2016,2016,2008,2008,2008,2000,2000,2000,2012,2012,2012,2004,2004,2004,2016,2016,2016,2008,2008,2008,2000,2000,2000,2012,2012,2012,2004,2004,2004,2016,2016,2016,2008,2008,2008,2000,2000,2000,2012,2012,2012,2004,2004,2016,2016,2016,2008,2008,2008,2000,2000,2000,2012,2012,2012,2012,2012,2004,2004,2004,2016,2016,2016,2008,2008,2008,2000,2000,2000,2012,2012,2004,2004,2004,2016,2016,2016,2008,2008,2008,2000,2000,2000,2012,2012,2012,2004,2004,2004,2016,2016,2016,2008,2008,2008,2000,2000,2000,2012,2012,2012,2004,2004,2004,2016,2016,2016,2008,2008,2000,2000,2000,2012,2012,2012,2004,2004,2004,2016,2016,2016,2008,2008,2008,2000,2000,2000,2012,2012,2012,2004,2004,2004,2016,2016,2016,2008,2008,2008,2000,2000,2000,2012,2012,2012,2004,2004,2004,2016,2016,2016,2008,2008,2008,2000,2000,2000,2012,2012,2012,2004,2004,2004,2016,2016,2016,2008,2008,2008,2000,2000,2000,2012,2012,2012,2004,2004,2004,2016,2016,2016,2008,2008,2008,2000,2000,2000,2012,2012,2012,2004,2004,2004,2016,2016,2016,2008,2008,2008,2000,2000,2000,2012,2012,2004,2004,2004,2016,2016,2016,2008,2008,2008,2000,2000,2000,2012,2012,2012,2004,2004,2004,2016,2016,2016,2008,2008,2008,2000,2000,2000,2000,2012,2012,2004,2004,2004,2016,2016,2016,2008,2008,2012,2012,2012,2016,2016,2016,2008,2008,2008,2000,2000,2000,2012,2012,2012,2004,2004,2004,2016,2016,2016,2008,2008,2008,2000,2000,2000,2012,2012,2012,2004,2004,2004,2016,2016,2016,2008,2008,2008,2000,2000,2000,2012,2012,2012,2004,2004,2004,2016,2016,2016,2008,2008,2000,2000,2000,2012,2012,2012,2004,2004,2004,2016,2016,2016,2008,2008,2008,2000,2000,2000,2012,2012,2012,2004,2004,2004,2016,2016,2016,2008,2008,2008,2000,2000,2000,2012,2012,2012,2004,2004,2004,2016,2016,2016,2008,2008,2000,2000,2000,2012,2012,2012,2004,2004,2004,2016,2016,2016,2008,2008,2008,2000,2000,2000,2012,2012,2004,2004,2004,2016,2016,2016,2008,2008,2008,2000,2000,2000,2012,2012,2012,2004,2004,2004,2016,2016,2016,2008,2008,2000,2000,2000,2000,2012,2012,2012,2004,2004,2004,2016,2016,2016,2008,2008,2000,2000,2000,2012,2012,2012,2004,2004,2004,2016,2016,2016,2008,2008,2000,2000,2000,2012,2012,2012,2004,2004,2004,2016,2016,2016,2008,2008,2008,2000,2000,2000,2012,2012,2012,2004,2004,2004,2016,2016,2016,2008,2008,2008,2000,2000,2000,2012,2012,2012,2004,2004,2004,2016,2016,2016,2008,2000,2000,2000,2012,2012,2004,2004,2016,2016,2016,2008,2000,2000,2000,2012,2012,2012,2004,2004,2004],\"coloraxis\":\"coloraxis\"},\"name\":\"\",\"type\":\"parcats\"}],                        {\"template\":{\"data\":{\"histogram2dcontour\":[{\"type\":\"histogram2dcontour\",\"colorbar\":{\"outlinewidth\":0,\"ticks\":\"\"},\"colorscale\":[[0.0,\"#0d0887\"],[0.1111111111111111,\"#46039f\"],[0.2222222222222222,\"#7201a8\"],[0.3333333333333333,\"#9c179e\"],[0.4444444444444444,\"#bd3786\"],[0.5555555555555556,\"#d8576b\"],[0.6666666666666666,\"#ed7953\"],[0.7777777777777778,\"#fb9f3a\"],[0.8888888888888888,\"#fdca26\"],[1.0,\"#f0f921\"]]}],\"choropleth\":[{\"type\":\"choropleth\",\"colorbar\":{\"outlinewidth\":0,\"ticks\":\"\"}}],\"histogram2d\":[{\"type\":\"histogram2d\",\"colorbar\":{\"outlinewidth\":0,\"ticks\":\"\"},\"colorscale\":[[0.0,\"#0d0887\"],[0.1111111111111111,\"#46039f\"],[0.2222222222222222,\"#7201a8\"],[0.3333333333333333,\"#9c179e\"],[0.4444444444444444,\"#bd3786\"],[0.5555555555555556,\"#d8576b\"],[0.6666666666666666,\"#ed7953\"],[0.7777777777777778,\"#fb9f3a\"],[0.8888888888888888,\"#fdca26\"],[1.0,\"#f0f921\"]]}],\"heatmap\":[{\"type\":\"heatmap\",\"colorbar\":{\"outlinewidth\":0,\"ticks\":\"\"},\"colorscale\":[[0.0,\"#0d0887\"],[0.1111111111111111,\"#46039f\"],[0.2222222222222222,\"#7201a8\"],[0.3333333333333333,\"#9c179e\"],[0.4444444444444444,\"#bd3786\"],[0.5555555555555556,\"#d8576b\"],[0.6666666666666666,\"#ed7953\"],[0.7777777777777778,\"#fb9f3a\"],[0.8888888888888888,\"#fdca26\"],[1.0,\"#f0f921\"]]}],\"heatmapgl\":[{\"type\":\"heatmapgl\",\"colorbar\":{\"outlinewidth\":0,\"ticks\":\"\"},\"colorscale\":[[0.0,\"#0d0887\"],[0.1111111111111111,\"#46039f\"],[0.2222222222222222,\"#7201a8\"],[0.3333333333333333,\"#9c179e\"],[0.4444444444444444,\"#bd3786\"],[0.5555555555555556,\"#d8576b\"],[0.6666666666666666,\"#ed7953\"],[0.7777777777777778,\"#fb9f3a\"],[0.8888888888888888,\"#fdca26\"],[1.0,\"#f0f921\"]]}],\"contourcarpet\":[{\"type\":\"contourcarpet\",\"colorbar\":{\"outlinewidth\":0,\"ticks\":\"\"}}],\"contour\":[{\"type\":\"contour\",\"colorbar\":{\"outlinewidth\":0,\"ticks\":\"\"},\"colorscale\":[[0.0,\"#0d0887\"],[0.1111111111111111,\"#46039f\"],[0.2222222222222222,\"#7201a8\"],[0.3333333333333333,\"#9c179e\"],[0.4444444444444444,\"#bd3786\"],[0.5555555555555556,\"#d8576b\"],[0.6666666666666666,\"#ed7953\"],[0.7777777777777778,\"#fb9f3a\"],[0.8888888888888888,\"#fdca26\"],[1.0,\"#f0f921\"]]}],\"surface\":[{\"type\":\"surface\",\"colorbar\":{\"outlinewidth\":0,\"ticks\":\"\"},\"colorscale\":[[0.0,\"#0d0887\"],[0.1111111111111111,\"#46039f\"],[0.2222222222222222,\"#7201a8\"],[0.3333333333333333,\"#9c179e\"],[0.4444444444444444,\"#bd3786\"],[0.5555555555555556,\"#d8576b\"],[0.6666666666666666,\"#ed7953\"],[0.7777777777777778,\"#fb9f3a\"],[0.8888888888888888,\"#fdca26\"],[1.0,\"#f0f921\"]]}],\"mesh3d\":[{\"type\":\"mesh3d\",\"colorbar\":{\"outlinewidth\":0,\"ticks\":\"\"}}],\"scatter\":[{\"fillpattern\":{\"fillmode\":\"overlay\",\"size\":10,\"solidity\":0.2},\"type\":\"scatter\"}],\"parcoords\":[{\"type\":\"parcoords\",\"line\":{\"colorbar\":{\"outlinewidth\":0,\"ticks\":\"\"}}}],\"scatterpolargl\":[{\"type\":\"scatterpolargl\",\"marker\":{\"colorbar\":{\"outlinewidth\":0,\"ticks\":\"\"}}}],\"bar\":[{\"error_x\":{\"color\":\"#2a3f5f\"},\"error_y\":{\"color\":\"#2a3f5f\"},\"marker\":{\"line\":{\"color\":\"#E5ECF6\",\"width\":0.5},\"pattern\":{\"fillmode\":\"overlay\",\"size\":10,\"solidity\":0.2}},\"type\":\"bar\"}],\"scattergeo\":[{\"type\":\"scattergeo\",\"marker\":{\"colorbar\":{\"outlinewidth\":0,\"ticks\":\"\"}}}],\"scatterpolar\":[{\"type\":\"scatterpolar\",\"marker\":{\"colorbar\":{\"outlinewidth\":0,\"ticks\":\"\"}}}],\"histogram\":[{\"marker\":{\"pattern\":{\"fillmode\":\"overlay\",\"size\":10,\"solidity\":0.2}},\"type\":\"histogram\"}],\"scattergl\":[{\"type\":\"scattergl\",\"marker\":{\"colorbar\":{\"outlinewidth\":0,\"ticks\":\"\"}}}],\"scatter3d\":[{\"type\":\"scatter3d\",\"line\":{\"colorbar\":{\"outlinewidth\":0,\"ticks\":\"\"}},\"marker\":{\"colorbar\":{\"outlinewidth\":0,\"ticks\":\"\"}}}],\"scattermapbox\":[{\"type\":\"scattermapbox\",\"marker\":{\"colorbar\":{\"outlinewidth\":0,\"ticks\":\"\"}}}],\"scatterternary\":[{\"type\":\"scatterternary\",\"marker\":{\"colorbar\":{\"outlinewidth\":0,\"ticks\":\"\"}}}],\"scattercarpet\":[{\"type\":\"scattercarpet\",\"marker\":{\"colorbar\":{\"outlinewidth\":0,\"ticks\":\"\"}}}],\"carpet\":[{\"aaxis\":{\"endlinecolor\":\"#2a3f5f\",\"gridcolor\":\"white\",\"linecolor\":\"white\",\"minorgridcolor\":\"white\",\"startlinecolor\":\"#2a3f5f\"},\"baxis\":{\"endlinecolor\":\"#2a3f5f\",\"gridcolor\":\"white\",\"linecolor\":\"white\",\"minorgridcolor\":\"white\",\"startlinecolor\":\"#2a3f5f\"},\"type\":\"carpet\"}],\"table\":[{\"cells\":{\"fill\":{\"color\":\"#EBF0F8\"},\"line\":{\"color\":\"white\"}},\"header\":{\"fill\":{\"color\":\"#C8D4E3\"},\"line\":{\"color\":\"white\"}},\"type\":\"table\"}],\"barpolar\":[{\"marker\":{\"line\":{\"color\":\"#E5ECF6\",\"width\":0.5},\"pattern\":{\"fillmode\":\"overlay\",\"size\":10,\"solidity\":0.2}},\"type\":\"barpolar\"}],\"pie\":[{\"automargin\":true,\"type\":\"pie\"}]},\"layout\":{\"autotypenumbers\":\"strict\",\"colorway\":[\"#636efa\",\"#EF553B\",\"#00cc96\",\"#ab63fa\",\"#FFA15A\",\"#19d3f3\",\"#FF6692\",\"#B6E880\",\"#FF97FF\",\"#FECB52\"],\"font\":{\"color\":\"#2a3f5f\"},\"hovermode\":\"closest\",\"hoverlabel\":{\"align\":\"left\"},\"paper_bgcolor\":\"white\",\"plot_bgcolor\":\"#E5ECF6\",\"polar\":{\"bgcolor\":\"#E5ECF6\",\"angularaxis\":{\"gridcolor\":\"white\",\"linecolor\":\"white\",\"ticks\":\"\"},\"radialaxis\":{\"gridcolor\":\"white\",\"linecolor\":\"white\",\"ticks\":\"\"}},\"ternary\":{\"bgcolor\":\"#E5ECF6\",\"aaxis\":{\"gridcolor\":\"white\",\"linecolor\":\"white\",\"ticks\":\"\"},\"baxis\":{\"gridcolor\":\"white\",\"linecolor\":\"white\",\"ticks\":\"\"},\"caxis\":{\"gridcolor\":\"white\",\"linecolor\":\"white\",\"ticks\":\"\"}},\"coloraxis\":{\"colorbar\":{\"outlinewidth\":0,\"ticks\":\"\"}},\"colorscale\":{\"sequential\":[[0.0,\"#0d0887\"],[0.1111111111111111,\"#46039f\"],[0.2222222222222222,\"#7201a8\"],[0.3333333333333333,\"#9c179e\"],[0.4444444444444444,\"#bd3786\"],[0.5555555555555556,\"#d8576b\"],[0.6666666666666666,\"#ed7953\"],[0.7777777777777778,\"#fb9f3a\"],[0.8888888888888888,\"#fdca26\"],[1.0,\"#f0f921\"]],\"sequentialminus\":[[0.0,\"#0d0887\"],[0.1111111111111111,\"#46039f\"],[0.2222222222222222,\"#7201a8\"],[0.3333333333333333,\"#9c179e\"],[0.4444444444444444,\"#bd3786\"],[0.5555555555555556,\"#d8576b\"],[0.6666666666666666,\"#ed7953\"],[0.7777777777777778,\"#fb9f3a\"],[0.8888888888888888,\"#fdca26\"],[1.0,\"#f0f921\"]],\"diverging\":[[0,\"#8e0152\"],[0.1,\"#c51b7d\"],[0.2,\"#de77ae\"],[0.3,\"#f1b6da\"],[0.4,\"#fde0ef\"],[0.5,\"#f7f7f7\"],[0.6,\"#e6f5d0\"],[0.7,\"#b8e186\"],[0.8,\"#7fbc41\"],[0.9,\"#4d9221\"],[1,\"#276419\"]]},\"xaxis\":{\"gridcolor\":\"white\",\"linecolor\":\"white\",\"ticks\":\"\",\"title\":{\"standoff\":15},\"zerolinecolor\":\"white\",\"automargin\":true,\"zerolinewidth\":2},\"yaxis\":{\"gridcolor\":\"white\",\"linecolor\":\"white\",\"ticks\":\"\",\"title\":{\"standoff\":15},\"zerolinecolor\":\"white\",\"automargin\":true,\"zerolinewidth\":2},\"scene\":{\"xaxis\":{\"backgroundcolor\":\"#E5ECF6\",\"gridcolor\":\"white\",\"linecolor\":\"white\",\"showbackground\":true,\"ticks\":\"\",\"zerolinecolor\":\"white\",\"gridwidth\":2},\"yaxis\":{\"backgroundcolor\":\"#E5ECF6\",\"gridcolor\":\"white\",\"linecolor\":\"white\",\"showbackground\":true,\"ticks\":\"\",\"zerolinecolor\":\"white\",\"gridwidth\":2},\"zaxis\":{\"backgroundcolor\":\"#E5ECF6\",\"gridcolor\":\"white\",\"linecolor\":\"white\",\"showbackground\":true,\"ticks\":\"\",\"zerolinecolor\":\"white\",\"gridwidth\":2}},\"shapedefaults\":{\"line\":{\"color\":\"#2a3f5f\"}},\"annotationdefaults\":{\"arrowcolor\":\"#2a3f5f\",\"arrowhead\":0,\"arrowwidth\":1},\"geo\":{\"bgcolor\":\"white\",\"landcolor\":\"#E5ECF6\",\"subunitcolor\":\"white\",\"showland\":true,\"showlakes\":true,\"lakecolor\":\"white\"},\"title\":{\"x\":0.05},\"mapbox\":{\"style\":\"light\"}}},\"coloraxis\":{\"colorbar\":{\"title\":{\"text\":\"Year\"}},\"colorscale\":[[0.0,\"#000004\"],[0.1111111111111111,\"#1b0c41\"],[0.2222222222222222,\"#4a0c6b\"],[0.3333333333333333,\"#781c6d\"],[0.4444444444444444,\"#a52c60\"],[0.5555555555555556,\"#cf4446\"],[0.6666666666666666,\"#ed6925\"],[0.7777777777777778,\"#fb9b06\"],[0.8888888888888888,\"#f7d13d\"],[1.0,\"#fcffa4\"]]},\"legend\":{\"tracegroupgap\":0},\"margin\":{\"t\":60},\"title\":{\"text\":\"Parallel Categories Plot of Olympic Medals by Gender (Since 2000)\"}},                        {\"responsive\": true}                    ).then(function(){\n",
              "                            \n",
              "var gd = document.getElementById('5a110241-95ea-4a13-9f57-25b71a5af258');\n",
              "var x = new MutationObserver(function (mutations, observer) {{\n",
              "        var display = window.getComputedStyle(gd).display;\n",
              "        if (!display || display === 'none') {{\n",
              "            console.log([gd, 'removed!']);\n",
              "            Plotly.purge(gd);\n",
              "            observer.disconnect();\n",
              "        }}\n",
              "}});\n",
              "\n",
              "// Listen for the removal of the full notebook cells\n",
              "var notebookContainer = gd.closest('#notebook-container');\n",
              "if (notebookContainer) {{\n",
              "    x.observe(notebookContainer, {childList: true});\n",
              "}}\n",
              "\n",
              "// Listen for the clearing of the current output cell\n",
              "var outputEl = gd.closest('.output');\n",
              "if (outputEl) {{\n",
              "    x.observe(outputEl, {childList: true});\n",
              "}}\n",
              "\n",
              "                        })                };                            </script>        </div>\n",
              "</body>\n",
              "</html>"
            ]
          },
          "metadata": {}
        }
      ],
      "source": [
        "df_filtered = df[df['Year'] >= 2000]\n",
        "fig = px.parallel_categories(df_filtered, dimensions=['Gender', 'Medal'],\n",
        "                             color='Year', color_continuous_scale=px.colors.sequential.Inferno,\n",
        "                             labels={'Gender': 'Gender', 'Medal': 'Medal Type', 'Year': 'Year'})\n",
        "fig.update_layout(title=\"Parallel Categories Plot of Olympic Medals by Gender (Since 2000)\")\n",
        "fig.show()\n",
        "\n",
        "\n"
      ]
    },
    {
      "cell_type": "code",
      "source": [
        "# This is R code, not Python. I can only fix Python syntax.\n",
        "  geom_smooth(se = FALSE, method = \"loess\", formula = y ~ x, color = \"#0072B2\") +\n",
        "  scale_x_continuous(\n",
        "    name = \"price (USD)\",\n",
        "    breaks = c(20, 40, 60),\n",
        "    labels = c(\"$20,000\", \"$40,000\", \"$60,000\")\n",
        "  ) +\n",
        "  scale_y_continuous(name = \"fuel-tank capacity\\n(US gallons)\")"
      ],
      "metadata": {
        "id": "8rMIPtQDK9QI",
        "colab": {
          "base_uri": "https://localhost:8080/",
          "height": 106
        },
        "outputId": "72860868-c898-4e5f-90c7-c53f2ce3477a"
      },
      "execution_count": null,
      "outputs": [
        {
          "output_type": "error",
          "ename": "SyntaxError",
          "evalue": "invalid syntax (<ipython-input-7-23496239153a>, line 1)",
          "traceback": [
            "\u001b[0;36m  File \u001b[0;32m\"<ipython-input-7-23496239153a>\"\u001b[0;36m, line \u001b[0;32m1\u001b[0m\n\u001b[0;31m    cars93 <- MASS::Cars93\u001b[0m\n\u001b[0m                  ^\u001b[0m\n\u001b[0;31mSyntaxError\u001b[0m\u001b[0;31m:\u001b[0m invalid syntax\n"
          ]
        }
      ]
    },
    {
      "cell_type": "code",
      "source": [],
      "metadata": {
        "id": "GULD7mDjMyfb"
      },
      "execution_count": null,
      "outputs": []
    }
  ]
}